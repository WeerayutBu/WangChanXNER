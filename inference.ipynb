{
 "cells": [
  {
   "cell_type": "code",
   "execution_count": 1,
   "metadata": {},
   "outputs": [
    {
     "name": "stderr",
     "output_type": "stream",
     "text": [
      "/home/fame/anaconda3/envs/spanproto/lib/python3.8/site-packages/tqdm/auto.py:21: TqdmWarning: IProgress not found. Please update jupyter and ipywidgets. See https://ipywidgets.readthedocs.io/en/stable/user_install.html\n",
      "  from .autonotebook import tqdm as notebook_tqdm\n"
     ]
    },
    {
     "name": "stdout",
     "output_type": "stream",
     "text": [
      "Using cuda device\n"
     ]
    }
   ],
   "source": [
    "# !nvidia-smi\n",
    "import torch\n",
    "from utils.utils import predict, show\n",
    "\n",
    "## check cuda availability\n",
    "device = 'cuda' if torch.cuda.is_available() else 'cpu'\n",
    "print('Using {} device'.format(device))"
   ]
  },
  {
   "cell_type": "code",
   "execution_count": 10,
   "metadata": {},
   "outputs": [
    {
     "name": "stdout",
     "output_type": "stream",
     "text": [
      "Warning: logging configuration file is not found in logger/logger_config.json.\n",
      "Train : 10 sentences\n",
      "Dev : 10 sentences\n",
      "Test : 7 sentences\n",
      "Max sents length: 256 tokens\n",
      "num_vocab: 25004\n",
      "num_tag: 12\n",
      "num_span: 5\n",
      "num_spantag: 45\n"
     ]
    },
    {
     "name": "stderr",
     "output_type": "stream",
     "text": [
      "Some weights of the model checkpoint at airesearch/wangchanberta-base-att-spm-uncased were not used when initializing CamembertModel: ['lm_head.dense.bias', 'lm_head.layer_norm.bias', 'lm_head.dense.weight', 'lm_head.layer_norm.weight', 'lm_head.decoder.bias', 'lm_head.decoder.weight', 'lm_head.bias']\n",
      "- This IS expected if you are initializing CamembertModel from the checkpoint of a model trained on another task or with another architecture (e.g. initializing a BertForSequenceClassification model from a BertForPreTraining model).\n",
      "- This IS NOT expected if you are initializing CamembertModel from the checkpoint of a model that you expect to be exactly identical (initializing a BertForSequenceClassification model from a BertForSequenceClassification model).\n",
      "INFO:test:Loading checkpoint: storage/checkpoints/debug_model/0806_234452_318276-based-lst20-lr_0.001-bs_16/model_best.pth ...\n"
     ]
    },
    {
     "name": "stdout",
     "output_type": "stream",
     "text": [
      "<s>||เมื่อ|วันที่||29||ก|.|ค|.||55|||สํานักข่าว||บีบีซี||รายงาน||ว่า|||มหาวิทยาลั|ย||ออก|ซ์||ฟอร์ด||ของ||อังกฤษ||ได้||แก้ไข||กฎ|การ||แต่งกาย||ภายใน||มหาวิทยาลั|ย|||หลัง||ชมรม|เพื่อ|ความ|หลากหลาย||ทางเพศ||ย|ื่นคําร้อง||ว่า||กฎ||ที่|มี||อยู่||เดิม|ไม่||เป็นธรรม||กับ|กลุ่ม||นศ||ข้าม||เพศ||trans|g|ender||ใน|||มหาวิทยาลั|ย||</s> \n",
      "\n"
     ]
    }
   ],
   "source": [
    "import os\n",
    "import sys\n",
    "import json\n",
    "import torch\n",
    "import argparse\n",
    "import numpy as np \n",
    "\n",
    "import model.model as module_arch\n",
    "import utils.dataloader as module_data\n",
    "from utils.metric import sequence_f1\n",
    "from utils.parse_config import ConfigParser\n",
    "\n",
    "args = argparse.ArgumentParser(description='PyTorch Template')\n",
    "args.add_argument('-c', '--config', default=None, type=str, help='config file path (default: None)')\n",
    "args.add_argument('-d', '--device', default=device, type=str, help='indices of GPUs to enable (default: all)')\n",
    "args.add_argument('-r', '--resume', default='storage/checkpoints/debug_model/0806_234452_318276-based-lst20-lr_0.001-bs_16/model_best.pth', type=str, help='path to latest checkpoint (default: None)')\n",
    "args.add_argument('--f', default='file', type=None)\n",
    "\n",
    "# Check if in IPython environment\n",
    "if any(\"ipykernel\" in arg for arg in sys.argv):\n",
    "    sys.argv = sys.argv[:1]  # Keep only the script name\n",
    "    \n",
    "config = ConfigParser.from_args(args)\n",
    "logger = config.get_logger('test')\n",
    "\n",
    "# setup dataloader instances\n",
    "data_loader = config.init_obj('dataloader', module_data)\n",
    "\n",
    "# build model architecturea\n",
    "model = config.init_obj('arch', module_arch, num_tag=data_loader.num_tag, path_lm=data_loader.path_lm)\n",
    "\n",
    "# get function handles of loss and metrics\n",
    "metric_fns = {\"sequence_f1\": sequence_f1}\n",
    "\n",
    "## Load checkpoint\n",
    "logger.info('Loading checkpoint: {} ...'.format(config.resume))\n",
    "checkpoint = torch.load(config.resume)\n",
    "state_dict = checkpoint['state_dict']\n",
    "model.load_state_dict(state_dict)\n",
    "model.eval()\n",
    "model = model.to(device)\n",
    "\n",
    "## \n",
    "text = \"\"\"\n",
    "เมื่อวันที่29ก.ค.55 สำนักข่าวบีบีซีรายงานว่า มหาวิทยาลัยออกซ์ฟอร์ดของอังกฤษได้แก้ไขกฎการแต่งกายภายในมหาวิทยาลัย \n",
    "หลังชมรมเพื่อความหลากหลายทางเพศยื่นคำร้องว่ากฎที่มีอยู่เดิมไม่เป็นธรรมกับกลุ่มนศข้ามเพศtransgenderใน\n",
    "มหาวิทยาลัย\n",
    "\"\"\"\n",
    "# Setup\n",
    "tokens, out = predict(\n",
    "    model, text,\n",
    "    data_loader.path_lm, \n",
    "    data_loader.ids2spantag, \n",
    "    data_loader.sent_length\n",
    ")\n",
    "\n",
    "tokens = [tk for tk in tokens if tk!=data_loader.pad]\n",
    "print(\"|\".join(tokens), \"\\n\")\n",
    "[show(x) for x in out];"
   ]
  }
 ],
 "metadata": {
  "kernelspec": {
   "display_name": "decomposed",
   "language": "python",
   "name": "python3"
  },
  "language_info": {
   "codemirror_mode": {
    "name": "ipython",
    "version": 3
   },
   "file_extension": ".py",
   "mimetype": "text/x-python",
   "name": "python",
   "nbconvert_exporter": "python",
   "pygments_lexer": "ipython3",
   "version": "3.8.16"
  },
  "orig_nbformat": 4
 },
 "nbformat": 4,
 "nbformat_minor": 2
}
