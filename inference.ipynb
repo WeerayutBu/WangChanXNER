{
 "cells": [
  {
   "cell_type": "code",
   "execution_count": 1,
   "metadata": {},
   "outputs": [
    {
     "name": "stderr",
     "output_type": "stream",
     "text": [
      "/home/fame/anaconda3/envs/wangchanxner/lib/python3.8/site-packages/tqdm/auto.py:21: TqdmWarning: IProgress not found. Please update jupyter and ipywidgets. See https://ipywidgets.readthedocs.io/en/stable/user_install.html\n",
      "  from .autonotebook import tqdm as notebook_tqdm\n"
     ]
    }
   ],
   "source": [
    "# !nvidia-smi\n",
    "\n",
    "import os\n",
    "import sys\n",
    "import torch\n",
    "import argparse\n",
    "from utils.utils import predict, show\n",
    "from model import model as module_arch\n",
    "from model import model as module_arch\n",
    "from utils.parse_config import ConfigParser\n",
    "from utils import dataloader as module_data, metric, utils\n",
    "\n",
    "class TestModel:\n",
    "    def __init__(self, resume_path):\n",
    "        self.args = self._parse_arguments(resume_path)\n",
    "        self.config = ConfigParser.from_args(self.args)\n",
    "        self.logger = self.config.get_logger('test')\n",
    "        self.data_loader = self._init_data_loader()\n",
    "        self.model = self._init_model()\n",
    "\n",
    "    @staticmethod\n",
    "    def _parse_arguments(resume_path):\n",
    "        parser = argparse.ArgumentParser(description='PyTorch Template')\n",
    "        parser.add_argument('-c', '--config', default=None, type=str, help='config file path (default: None)')\n",
    "        parser.add_argument('-r', '--resume', default=resume_path, type=str, help='path to latest checkpoint (default: None)')\n",
    "        parser.add_argument('-d', '--device', default='cpu', type=str, help='indices of GPUs to enable (default: all)')\n",
    "\n",
    "        # Check if in IPython environment\n",
    "        if any(\"ipykernel\" in arg for arg in sys.argv):\n",
    "            sys.argv = sys.argv[:1]  # Keep only the script name\n",
    "\n",
    "        return parser\n",
    "\n",
    "    def _init_data_loader(self):\n",
    "        self.config['dataloader']['args']['sample_data'] = True\n",
    "        return self.config.init_obj('dataloader', module_data)\n",
    "\n",
    "    def _init_model(self):\n",
    "        model = self.config.init_obj('arch', module_arch, num_tag=self.data_loader.num_tag, path_lm=self.data_loader.path_lm)\n",
    "        model.eval()\n",
    "        device = torch.device('cuda' if torch.cuda.is_available() else 'cpu')\n",
    "        model = model.to(device)\n",
    "        checkpoint = torch.load(self.config.resume, map_location='cpu')\n",
    "        model.load_state_dict(checkpoint['state_dict'])\n",
    "        return model.to(device)\n",
    "\n",
    "    def test_prediction(self, text):\n",
    "        tokens, out = utils.predict(self.model, text, self.data_loader.path_lm, self.data_loader.ids2spantag, self.data_loader.sent_length)\n",
    "        tokens = [tk for tk in tokens if tk != self.data_loader.pad]\n",
    "        print(\"|\".join(tokens), \"\\n\")\n",
    "        [utils.show(x) for x in out]"
   ]
  },
  {
   "cell_type": "code",
   "execution_count": 2,
   "metadata": {},
   "outputs": [
    {
     "name": "stdout",
     "output_type": "stream",
     "text": [
      "Train : 71 sentences\n",
      "Dev : 63 sentences\n",
      "Test : 68 sentences\n",
      "Max sents length: 512 tokens\n",
      "num_vocab: 250002\n",
      "num_tag: 105\n",
      "num_span: 5\n",
      "num_spantag: 417\n"
     ]
    },
    {
     "name": "stderr",
     "output_type": "stream",
     "text": [
      "Some weights of the model checkpoint at xlm-roberta-base were not used when initializing XLMRobertaModel: ['lm_head.dense.weight', 'lm_head.dense.bias', 'lm_head.layer_norm.bias', 'lm_head.bias', 'lm_head.layer_norm.weight', 'lm_head.decoder.weight']\n",
      "- This IS expected if you are initializing XLMRobertaModel from the checkpoint of a model trained on another task or with another architecture (e.g. initializing a BertForSequenceClassification model from a BertForPreTraining model).\n",
      "- This IS NOT expected if you are initializing XLMRobertaModel from the checkpoint of a model that you expect to be exactly identical (initializing a BertForSequenceClassification model from a BertForSequenceClassification model).\n"
     ]
    }
   ],
   "source": [
    "tester = TestModel('storage/best_model/model_best.pth')"
   ]
  },
  {
   "cell_type": "code",
   "execution_count": 3,
   "metadata": {},
   "outputs": [
    {
     "name": "stdout",
     "output_type": "stream",
     "text": [
      "<s>|เมื่อ|วันที่|29|ก|.|ค|.|55||สํานัก|ข่าว||บี|บี|ซี||รายงาน|ว่า|มหาวิทยาลัย||ออก|ซ์||ฟอร์ด|ของ||อังกฤษ|ได้||แก้ไข||กฎ|การ||แต่ง|กาย||ภายใน|มหาวิทยาลัย|</s> \n",
      "\n",
      "[2, 9]         date           วันที่29ก.ค.55\n",
      "[12, 16]       media          บีบีซี\n",
      "[26, 28]       country        อังกฤษ\n"
     ]
    },
    {
     "ename": "",
     "evalue": "",
     "output_type": "error",
     "traceback": [
      "\u001b[1;31mThe Kernel crashed while executing code in the the current cell or a previous cell. Please review the code in the cell(s) to identify a possible cause of the failure. Click <a href='https://aka.ms/vscodeJupyterKernelCrash'>here</a> for more info. View Jupyter <a href='command:jupyter.viewOutput'>log</a> for further details."
     ]
    }
   ],
   "source": [
    "tester.test_prediction(\"เมื่อวันที่29ก.ค.55 สำนักข่าวบีบีซีรายงานว่า มหาวิทยาลัยออกซ์ฟอร์ดของอังกฤษได้แก้ไขกฎการแต่งกายภายในมหาวิทยาลัย\")"
   ]
  },
  {
   "cell_type": "code",
   "execution_count": null,
   "metadata": {},
   "outputs": [],
   "source": []
  }
 ],
 "metadata": {
  "kernelspec": {
   "display_name": "decomposed",
   "language": "python",
   "name": "python3"
  },
  "language_info": {
   "codemirror_mode": {
    "name": "ipython",
    "version": 3
   },
   "file_extension": ".py",
   "mimetype": "text/x-python",
   "name": "python",
   "nbconvert_exporter": "python",
   "pygments_lexer": "ipython3",
   "version": "3.8.17"
  },
  "orig_nbformat": 4
 },
 "nbformat": 4,
 "nbformat_minor": 2
}
