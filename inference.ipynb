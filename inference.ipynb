{
 "cells": [
  {
   "cell_type": "code",
   "execution_count": 1,
   "metadata": {},
   "outputs": [
    {
     "name": "stdout",
     "output_type": "stream",
     "text": [
      "Warning: logging configuration file is not found in logger/logger_config.json.\n",
      "Train : 10 sentences\n",
      "Dev : 10 sentences\n",
      "Test : 7 sentences\n",
      "Max sents length: 256 tokens\n",
      "num_vocab: 25004\n",
      "num_tag: 12\n",
      "num_span: 5\n",
      "num_spantag: 45\n"
     ]
    },
    {
     "name": "stderr",
     "output_type": "stream",
     "text": [
      "Some weights of the model checkpoint at airesearch/wangchanberta-base-att-spm-uncased were not used when initializing CamembertModel: ['lm_head.layer_norm.bias', 'lm_head.decoder.weight', 'lm_head.decoder.bias', 'lm_head.dense.weight', 'lm_head.layer_norm.weight', 'lm_head.bias', 'lm_head.dense.bias']\n",
      "- This IS expected if you are initializing CamembertModel from the checkpoint of a model trained on another task or with another architecture (e.g. initializing a BertForSequenceClassification model from a BertForPreTraining model).\n",
      "- This IS NOT expected if you are initializing CamembertModel from the checkpoint of a model that you expect to be exactly identical (initializing a BertForSequenceClassification model from a BertForSequenceClassification model).\n"
     ]
    }
   ],
   "source": [
    "import os\n",
    "import sys\n",
    "import json\n",
    "import torch\n",
    "import argparse\n",
    "import numpy as np \n",
    "\n",
    "import model.model as module_arch\n",
    "import utils.dataloader as module_data\n",
    "\n",
    "from utils.metric import evaluate \n",
    "from utils.utils import decode_tags\n",
    "from utils.metric import sequence_f1\n",
    "from utils.parse_config import ConfigParser\n",
    "\n",
    "resume = 'storage/checkpoints/debug_model/0806_234452_318276-based-lst20-lr_0.001-bs_16/model_best.pth'\n",
    "\n",
    "args = argparse.ArgumentParser(description='PyTorch Template')\n",
    "args.add_argument('-c', '--config', default=None, type=str, help='config file path (default: None)')\n",
    "args.add_argument('-r', '--resume', default=f\"{resume}\", type=str, help='path to latest checkpoint (default: None)')\n",
    "args.add_argument('-d', '--device', default='cpu', type=str, help='indices of GPUs to enable (default: all)')\n",
    "args.add_argument('--f', default='save', type=None)\n",
    "\n",
    "# Check if in IPython environment\n",
    "if any(\"ipykernel\" in arg for arg in sys.argv):\n",
    "    sys.argv = sys.argv[:1]  # Keep only the script name\n",
    "    \n",
    "config = ConfigParser.from_args(args)\n",
    "logger = config.get_logger('test')\n",
    "\n",
    "# setup dataloader instances\n",
    "data_loader = config.init_obj('dataloader', module_data)\n",
    "\n",
    "# build model architecturea\n",
    "model = config.init_obj('arch', module_arch, num_tag=data_loader.num_tag, path_lm=data_loader.path_lm)\n",
    "\n",
    "# get function handles of loss and metrics\n",
    "metric_fns = {\"sequence_f1\": sequence_f1}"
   ]
  },
  {
   "cell_type": "code",
   "execution_count": 5,
   "metadata": {},
   "outputs": [
    {
     "name": "stderr",
     "output_type": "stream",
     "text": [
      "INFO:test:Loading checkpoint: storage/checkpoints/debug_model/0806_234452_318276-based-lst20-lr_0.001-bs_16/model_best.pth ...\n"
     ]
    }
   ],
   "source": [
    "# Load checkpoint\n",
    "logger.info('Loading checkpoint: {} ...'.format(config.resume))\n",
    "# checkpoint = torch.load(config.resume)\n",
    "# state_dict = checkpoint['state_dict']\n",
    "# model.load_state_dict(state_dict)\n",
    "\n",
    "## \n",
    "model.eval()\n",
    "device = torch.device('cuda' if torch.cuda.is_available() else 'cpu')\n",
    "model = model.to(device)"
   ]
  },
  {
   "cell_type": "code",
   "execution_count": 3,
   "metadata": {},
   "outputs": [
    {
     "name": "stdout",
     "output_type": "stream",
     "text": [
      "<s>||เมื่อ|วันที่||29||ก|.|ค|.||55|||สํานักข่าว||บีบีซี||รายงาน||ว่า|||มหาวิทยาลั|ย||ออก|ซ์||ฟอร์ด||ของ||อังกฤษ||ได้||แก้ไข||กฎ|การ||แต่งกาย||ภายใน||มหาวิทยาลั|ย||หลัง||ชมรม|เพื่อ|ความ|หลากหลาย||ทางเพศ||ย|ื่นคําร้อง||ว่า||กฎ||ที่|มี||อยู่||เดิม|ไม่||เป็นธรรม||กับ|กลุ่ม||นศ||ข้าม||เพศ||trans|g|ender||ใน|||มหาวิทยาลั|ย||</s> \n",
      "\n",
      "[1, 2]         ORG            \n",
      "[3, 4]         ORG            วันที่\n",
      "[4, 5]         ORG            \n",
      "[6, 7]         ORG            \n",
      "[7, 8]         TTL            ก\n",
      "[9, 10]        PER            ค\n",
      "[13, 14]       ORG            \n",
      "[14, 15]       ORG            \n",
      "[16, 17]       ORG            \n",
      "[17, 18]       NAME           บีบีซี\n",
      "[18, 19]       ORG            \n",
      "[22, 23]       ORG            \n",
      "[23, 24]       ORG            \n",
      "[25, 26]       PER            ย\n",
      "[26, 27]       ORG            \n",
      "[28, 29]       TTL            ซ์\n",
      "[32, 33]       PER            ของ\n",
      "[33, 34]       ORG            \n",
      "[34, 35]       PER            อังกฤษ\n",
      "[35, 36]       ORG            \n",
      "[39, 40]       ORG            \n",
      "[46, 47]       ORG            \n",
      "[47, 48]       PER            มหาวิทยาลั\n",
      "[48, 49]       PER            ย\n",
      "[49, 50]       ORG            \n",
      "[50, 51]       PER            หลัง\n",
      "[51, 52]       ORG            \n",
      "[52, 53]       PER            ชมรม\n",
      "[58, 59]       ORG            \n",
      "[59, 60]       TRM            ย\n",
      "[61, 62]       ORG            \n",
      "[63, 64]       ORG            \n",
      "[66, 67]       PER            ที่\n",
      "[67, 68]       ORG            มี\n",
      "[68, 69]       ORG            \n",
      "[73, 74]       TTL            \n",
      "[77, 78]       PER            กลุ่ม\n",
      "[79, 80]       PER            นศ\n",
      "[80, 81]       ORG            \n",
      "[82, 83]       ORG            \n",
      "[83, 84]       PER            เพศ\n",
      "[84, 85]       PER            \n",
      "[88, 89]       PER            \n",
      "[89, 90]       PER            ใน\n",
      "[90, 91]       PER            \n",
      "[91, 92]       ORG            \n",
      "[93, 94]       PER            ย\n",
      "[94, 95]       PER            \n"
     ]
    }
   ],
   "source": [
    "from utils.utils import predict, show\n",
    "\n",
    "text = \"\"\"\n",
    "เมื่อวันที่29ก.ค.55 สำนักข่าวบีบีซีรายงานว่า มหาวิทยาลัยออกซ์ฟอร์ดของอังกฤษได้แก้ไขกฎการแต่งกายภายในมหาวิทยาลัย หลังชมรมเพื่อความหลากหลายทางเพศยื่นคำร้องว่ากฎที่มีอยู่เดิมไม่เป็นธรรมกับกลุ่มนศข้ามเพศtransgenderใน\n",
    "มหาวิทยาลัย\n",
    "\"\"\"\n",
    "# Setup\n",
    "lm_path = data_loader.path_lm\n",
    "ids2tag = data_loader.ids2spantag\n",
    "max_sent_length = data_loader.sent_length\n",
    "\n",
    "tokens, out = predict(model, text, lm_path, ids2tag, max_sent_length)\n",
    "tokens = [tk for tk in tokens if tk!=data_loader.pad]\n",
    "\n",
    "print(\"|\".join(tokens), \"\\n\")\n",
    "[show(x) for x in out];"
   ]
  },
  {
   "cell_type": "code",
   "execution_count": null,
   "metadata": {},
   "outputs": [
    {
     "data": {
      "text/plain": [
       "'<pad>'"
      ]
     },
     "execution_count": 38,
     "metadata": {},
     "output_type": "execute_result"
    }
   ],
   "source": []
  },
  {
   "cell_type": "code",
   "execution_count": null,
   "metadata": {},
   "outputs": [],
   "source": []
  }
 ],
 "metadata": {
  "kernelspec": {
   "display_name": "decomposed",
   "language": "python",
   "name": "python3"
  },
  "language_info": {
   "codemirror_mode": {
    "name": "ipython",
    "version": 3
   },
   "file_extension": ".py",
   "mimetype": "text/x-python",
   "name": "python",
   "nbconvert_exporter": "python",
   "pygments_lexer": "ipython3",
   "version": "3.8.16"
  },
  "orig_nbformat": 4
 },
 "nbformat": 4,
 "nbformat_minor": 2
}
